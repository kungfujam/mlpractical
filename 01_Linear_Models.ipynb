{
 "cells": [
  {
   "cell_type": "code",
   "execution_count": 37,
   "metadata": {
    "collapsed": false
   },
   "outputs": [
    {
     "name": "stderr",
     "output_type": "stream",
     "text": [
      "/Users/kungfujam/anaconda/lib/python2.7/site-packages/IPython/parallel.py:13: ShimWarning: The `IPython.parallel` package has been deprecated. You should import from ipyparallel instead.\n",
      "  \"You should import from ipyparallel instead.\", ShimWarning)\n"
     ]
    }
   ],
   "source": [
    "%qtconsole"
   ]
  },
  {
   "cell_type": "markdown",
   "metadata": {},
   "source": [
    "# Single Layer Models\n",
    "\n",
    "***\n",
    "### Note on storing matrices in computer memory\n",
    "\n",
    "Suppose you want to store the following matrix in memory: $\\left[ \\begin{array}{ccc}\n",
    "1 & 2 & 3 \\\\\n",
    "4 & 5 & 6 \\\\\n",
    "7 & 8 & 9 \\end{array} \\right]$ \n",
    "\n",
    "If you allocate the memory at once for the whole matrix, then the above matrix would be organised as a vector in one of two possible forms:\n",
    "\n",
    "* Row-wise layout where the order would look like: $\\left [ \\begin{array}{ccccccccc}\n",
    "1 & 2 & 3 & 4 & 5 & 6 & 7 & 8 & 9 \\end{array} \\right ]$\n",
    "* Column-wise layout where the order would look like: $\\left [ \\begin{array}{ccccccccc}\n",
    "1 & 4 & 7 & 2 & 5 & 8 & 3 & 6 & 9 \\end{array} \\right ]$\n",
    "\n",
    "Although `numpy` can easily handle both formats (possibly with some computational overhead), in our code we will stick with the more modern (and default) `C`-like approach and use the row-wise format (in contrast to Fortran that used a column-wise approach). \n",
    "\n",
    "This means, that in this tutorial:\n",
    "* vectors are kept row-wise $\\mathbf{x} = (x_1, x_1, \\ldots, x_D) $ (rather than $\\mathbf{x} = (x_1, x_1, \\ldots, x_D)^T$)\n",
    "* similarly, in case of matrices we will stick to: $\\left[ \\begin{array}{cccc}\n",
    "x_{11} & x_{12} & \\ldots & x_{1D} \\\\\n",
    "x_{21} & x_{22} & \\ldots & x_{2D} \\\\\n",
    "x_{31} & x_{32} & \\ldots & x_{3D} \\\\ \\end{array} \\right]$ and each row (i.e. $\\left[ \\begin{array}{cccc} x_{11} & x_{12} & \\ldots & x_{1D} \\end{array} \\right]$) represents a single data-point (like one MNIST image or one window of observations)\n",
    "\n",
    "In lecture slides you will find the equations following the conventional mathematical approach, using column vectors, but you can easily map between column-major and row-major organisations using a matrix transpose.\n",
    "\n",
    "***\n",
    "\n",
    "## Linear and Affine Transforms\n",
    "\n",
    "The basis of all linear models is the so called affine transform, which is a transform that implements a linear transformation and translation of the input features. The transforms we are going to use are parameterised by:\n",
    "\n",
    "  * A weight matrix $\\mathbf{W} \\in \\mathbb{R}^{D\\times K}$: where element $w_{ik}$ is the weight from input $x_i$ to output $y_k$\n",
    "  * A bias vector $\\mathbf{b}\\in R^{K}$ : where element $b_{k}$ is the bias for output $k$\n",
    "\n",
    "Note, the bias is simply some additive term, and can be easily incorporated into an additional row in weight matrix and an additional input in the inputs which is set to $1.0$ (as in the below picture taken from the lecture slides). However, here (and in the code) we will keep them separate.\n",
    "\n",
    "![Making Predictions](res/singleLayerNetWts-1.png)\n",
    "\n",
    "For instance, for the above example of 5-dimensional input vector by $\\mathbf{x} = (x_1, x_2, x_3, x_4, x_5)$, weight matrix $\\mathbf{W}=\\left[ \\begin{array}{ccc}\n",
    "w_{11} & w_{12} & w_{13} \\\\\n",
    "w_{21} & w_{22} & w_{23} \\\\\n",
    "w_{31} & w_{32} & w_{33} \\\\\n",
    "w_{41} & w_{42} & w_{43} \\\\\n",
    "w_{51} & w_{52} & w_{53} \\\\ \\end{array} \\right]$, bias vector $\\mathbf{b} = (b_1, b_2, b_3)$ and outputs $\\mathbf{y} = (y_1, y_2, y_3)$, one can write the transformation as follows:\n",
    "\n",
    "(for the $i$-th output)\n",
    "\n",
    "(1) $\n",
    "\\begin{equation}\n",
    "   y_i = b_i + \\sum_j x_jw_{ji}\n",
    "\\end{equation}\n",
    "$\n",
    "\n",
    "or the equivalent vector form (where $\\mathbf w_i$ is the $i$-th column of $\\mathbf W$, but note, when we **slice** the $i$th column we will get a **vector** $\\mathbf w_i = (w_{1i}, w_{2i},  w_{3i},  w_{4i}, w_{5i})$, hence the transpose for $\\mathbf w_i$ in the below equation):\n",
    "\n",
    "(2) $\n",
    "\\begin{equation}\n",
    "   y_i = b_i + \\mathbf x \\mathbf w_i^T\n",
    "\\end{equation}\n",
    "$\n",
    "\n",
    "The same operation can be also written in matrix form, to compute all the outputs $\\mathbf{y}$ at the same time:\n",
    "\n",
    "(3) $\n",
    "\\begin{equation}\n",
    "  \\mathbf y=\\mathbf x\\mathbf W + \\mathbf b\n",
    "\\end{equation}\n",
    "$\n",
    "\n",
    "This is equivalent to slides 12/13 in lecture 1, except we are using row vectors.\n",
    "\n",
    "When $\\mathbf{x}$ is a mini-batch (contains $B$ data-points of dimension $D$ each), i.e. $\\left[ \\begin{array}{cccc}\n",
    "x_{11} & x_{12} & \\ldots & x_{1D} \\\\\n",
    "x_{21} & x_{22} & \\ldots & x_{2D} \\\\\n",
    "\\cdots \\\\\n",
    "x_{B1} & x_{B2} & \\ldots & x_{BD} \\\\ \\end{array} \\right]$ equation (3) effectively becomes to be\n",
    "\n",
    "(4) $\n",
    "\\begin{equation}\n",
    "  \\mathbf Y=\\mathbf X\\mathbf W + \\mathbf b\n",
    "\\end{equation}\n",
    "$\n",
    "\n",
    "where $\\mathbf{W} \\in \\mathbb{R}^{D\\times K}$ and both $\\mathbf{X}\\in\\mathbb{R}^{B\\times D}$ and $\\mathbf{Y}\\in\\mathbb{R}^{B\\times K}$ are matrices, and $\\mathbf{b}\\in\\mathbb{R}^{1\\times K}$ needs to be <a href=\"http://docs.scipy.org/doc/numpy/user/basics.broadcasting.html\">broadcasted</a> $B$ times (numpy will do this by default). However, we will not make an explicit distinction between a special case for $B=1$ and $B>1$ and simply use equation (3) instead, although $\\mathbf{x}$ and hence $\\mathbf{y}$ could be matrices. From an implementation point of view, it does not matter.\n",
    "\n",
    "The desired functionality for matrix multiplication in numpy is provided by <a href=\"http://docs.scipy.org/doc/numpy/reference/generated/numpy.dot.html\">numpy.dot</a> function. If you haven't use it so far, get familiar with it as we will use it extensively."
   ]
  },
  {
   "cell_type": "markdown",
   "metadata": {},
   "source": [
    "### A general note on random number generators\n",
    "\n",
    "It is generally a good practice (for machine learning applications **not** for cryptography!) to seed a pseudo-random number generator once at the beginning of the experiment, and use it later through the code where necesarry. This makes it easier to reproduce results since random initialisations can be replicated. As such, within this course we are going use a single random generator object, similar to the below:"
   ]
  },
  {
   "cell_type": "code",
   "execution_count": 2,
   "metadata": {
    "collapsed": false
   },
   "outputs": [],
   "source": [
    "import numpy as np\n",
    "\n",
    "#initialise the random generator to be used later\n",
    "seed=[2015, 10, 1]\n",
    "random_generator = np.random.RandomState(seed)"
   ]
  },
  {
   "cell_type": "markdown",
   "metadata": {},
   "source": [
    "## Exercise 1 \n",
    "\n",
    "Using `numpy.dot`, implement **forward** propagation through the linear transform defined by equations (3) and (4) for $B=1$ and $B>1$ i.e. use parameters $\\mathbf{W}$ and $\\mathbf{b}$ with data $\\mathbf{X}$ to determine $\\mathbf{Y}$. Use `MNISTDataProvider` (introduced last week) to generate $\\mathbf{X}$. We are going to write a function for each equation:\n",
    "1. `y1_equation_1`: Return the value of the $1^{st}$ dimension of $\\mathbf{y}$ (the output of the first output node) given a single training data point $\\mathbf{x}$ using a sum\n",
    "1. `y1_equation_2`: Repeat above using vector multiplication (use `numpy.dot()`)\n",
    "1. `y_equation_3`: Return the value of $\\mathbf{y}$ (the whole output layer) given a single training data point $\\mathbf{x}$\n",
    "1. `Y_equation_4`: Return the value of $\\mathbf{Y}$ given $\\mathbf{X}$\n",
    "\n",
    "We have initialised $\\mathbf{b}$ to zeros and randomly generated $\\mathbf{W}$ for you. The constants introduced above are:\n",
    "* The number of data points $B = 3$\n",
    "* The dimensionality of the input $D = 784$\n",
    "* The dimensionality of the output $K = 10$"
   ]
  },
  {
   "cell_type": "code",
   "execution_count": 16,
   "metadata": {
    "collapsed": false
   },
   "outputs": [],
   "source": [
    "from mlp.dataset import MNISTDataProvider\n",
    "\n",
    "mnist_dp = MNISTDataProvider(dset='valid', batch_size=3, max_num_batches=1, randomize=False)\n",
    "B = 3\n",
    "D = 784\n",
    "K = 10\n",
    "irange = 0.1\n",
    "W = random_generator.uniform(-irange, irange, (D, K)) \n",
    "b = numpy.zeros((10,))\n"
   ]
  },
  {
   "cell_type": "code",
   "execution_count": 5,
   "metadata": {
    "collapsed": false
   },
   "outputs": [
    {
     "name": "stdout",
     "output_type": "stream",
     "text": [
      " y1e1 0.55861474982\n",
      "y1e2 0.55861474982\n",
      "ye3 [ 0.55861475  0.79450077  0.17439693  0.00265688  0.66272539 -0.09985686\n",
      "  0.56468591  0.58105588 -0.18613727  0.08151257]\n",
      "Ye4 [[ 0.55861475  0.79450077  0.17439693  0.00265688  0.66272539 -0.09985686\n",
      "   0.56468591  0.58105588 -0.18613727  0.08151257]\n",
      " [-0.43965864  0.59573972 -0.22691119  0.26767124 -0.31343979  0.07224664\n",
      "  -0.19616183  0.0851733  -0.24088286 -0.19305162]\n",
      " [-0.20176359  0.42394166 -1.03984446  0.15492101  0.15694745 -0.53741022\n",
      "   0.05887668 -0.21124527 -0.07870156 -0.00506471]]\n"
     ]
    }
   ],
   "source": [
    "\n",
    "mnist_dp.reset()\n",
    "\n",
    "#implement following functions, then run the cell\n",
    "def y1_equation_1(x, W, b):\n",
    "    k = 0\n",
    "    s = 0\n",
    "    for j in xrange(len(x)):\n",
    "        s += x[j] * W[j,k]\n",
    "    return b[k] + s\n",
    "    \n",
    "def y1_equation_2(x, W, b):\n",
    "    k = 0\n",
    "    return np.dot(x, W[:,k]) + b[k]\n",
    "\n",
    "def y_equation_3(x, W, b):\n",
    "    k=0\n",
    "    return np.dot(x[k], W) + b\n",
    "\n",
    "def Y_equation_4(x, W, b):\n",
    "    #use numpy.dot\n",
    "    raise NotImplementedError()\n",
    "\n",
    "for X, t in mnist_dp:\n",
    "    n = 0\n",
    "    y1e1 = y1_equation_1(x[n], W, b)\n",
    "    y1e2 = y1_equation_2(x[n], W, b)\n",
    "    ye3 = y_equation_3(x[n], W, b)\n",
    "    Ye4 = Y_equation_4(x, W, b)\n",
    "\n",
    "print 'y1e1', y1e1\n",
    "print 'y1e2', y1e2\n",
    "print 'ye3', ye3\n",
    "print 'Ye4', ye4\n",
    "    "
   ]
  },
  {
   "cell_type": "markdown",
   "metadata": {
    "collapsed": true
   },
   "source": [
    "## Exercise 2\n",
    "\n",
    "Modify the examples from Exercise 1 to perform **backward** propagation, that is, given $\\mathbf{y}$ (obtained in the previous step) and weight matrix $\\mathbf{W}$, project $\\mathbf{y}$ onto the input space $\\mathbf{x}$ (ignore or set to zero the biases towards $\\mathbf{x}$ in backward pass, and note, we are **not** trying to reconstruct the original $\\mathbf{x}$). Mathematically, we are interested in the following transformation: $\\mathbf{z}=\\mathbf{y}\\mathbf{W}^T$"
   ]
  },
  {
   "cell_type": "code",
   "execution_count": 22,
   "metadata": {
    "collapsed": false
   },
   "outputs": [
    {
     "name": "stdout",
     "output_type": "stream",
     "text": [
      "(3, 784)\n",
      "(3, 784)\n"
     ]
    },
    {
     "data": {
      "image/png": "[encoded data removed]",
      "text/plain": [
       "<matplotlib.figure.Figure at 0x10dc57710>"
      ]
     },
     "metadata": {},
     "output_type": "display_data"
    },
    {
     "data": {
      "image/png": "[encoded data removed]",
      "text/plain": [
       "<matplotlib.figure.Figure at 0x10ddbed50>"
      ]
     },
     "metadata": {},
     "output_type": "display_data"
    },
    {
     "data": {
      "image/png": "[encoded data removed]",
      "text/plain": [
       "<matplotlib.figure.Figure at 0x10def1250>"
      ]
     },
     "metadata": {},
     "output_type": "display_data"
    },
    {
     "data": {
      "image/png": "[encoded data removed]",
      "text/plain": [
       "<matplotlib.figure.Figure at 0x10d312650>"
      ]
     },
     "metadata": {},
     "output_type": "display_data"
    },
    {
     "data": {
      "image/png": "[encoded data removed]",
      "text/plain": [
       "<matplotlib.figure.Figure at 0x10dddd910>"
      ]
     },
     "metadata": {},
     "output_type": "display_data"
    },
    {
     "data": {
      "image/png": "[encoded data removed]",
      "text/plain": [
       "<matplotlib.figure.Figure at 0x10d417690>"
      ]
     },
     "metadata": {},
     "output_type": "display_data"
    }
   ],
   "source": [
    "%matplotlib inline\n",
    "import matplotlib.pyplot as plt\n",
    "import matplotlib.gridspec as gridspec\n",
    "import matplotlib.cm as cm\n",
    "\n",
    "def show_mnist_image(img):\n",
    "    fig = plt.figure()\n",
    "    gs = gridspec.GridSpec(1, 1)\n",
    "    ax1 = fig.add_subplot(gs[0,0])\n",
    "    ax1.imshow(img, cmap=cm.Greys_r, interpolation=\"None\")\n",
    "    plt.show()\n",
    "    \n",
    "def backprop(Y, W):\n",
    "    return np.dot(Y, W.T)\n",
    "\n",
    "mnist_dp.reset()\n",
    "for X, t in mnist_dp:\n",
    "    X1 = np.copy(X)\n",
    "    Y = y_equation_4(X, W, b)\n",
    "    X2 = backprop(Y, W)\n",
    "\n",
    "for i in range(X1.shape[0]):\n",
    "    show_mnist_image(X1[i].reshape(28, 28))\n",
    "    show_mnist_image(X2[i].reshape(28, 28))"
   ]
  },
  {
   "cell_type": "markdown",
   "metadata": {},
   "source": [
    "***\n",
    "## Exercise 3 (optional)\n",
    "\n",
    "In case you do not fully understand how matrix-vector and/or matrix-matrix products work, consider implementing `my_dot_mat_mat` function  (you have been given `my_dot_vec_mat` code to look at as an example) which takes as the input the following arguments:\n",
    "\n",
    "* D-dimensional input vector $\\mathbf{x} = (x_1, x_2, \\ldots, x_D) $.\n",
    "* Weight matrix $\\mathbf{W}\\in\\mathbb{R}^{D\\times K}$:\n",
    "\n",
    "and returns:\n",
    "\n",
    "* K-dimensional output vector $\\mathbf{y} = (y_1, \\ldots, y_K) $\n",
    "\n",
    "Your job is to write a variant that works in a mini-batch mode where both $\\mathbf{x}\\in\\mathbb{R}^{B\\times D}$ and $\\mathbf{y}\\in\\mathbb{R}^{B\\times K}$ are matrices in which each rows contain one of $B$ data-points from mini-batch (rather than  $\\mathbf{x}\\in\\mathbb{R}^{D}$ and $\\mathbf{y}\\in\\mathbb{R}^{K}$)."
   ]
  },
  {
   "cell_type": "code",
   "execution_count": 26,
   "metadata": {
    "collapsed": false
   },
   "outputs": [],
   "source": [
    "def my_dot_vec_mat(x, W):\n",
    "    J = x.shape[0]\n",
    "    K = W.shape[1]\n",
    "    assert (J == W.shape[0]), (\n",
    "        \"Number of columns of x expected to \"\n",
    "        \" to be equal to the number of rows in \"\n",
    "        \"W, bot got shapes %s, %s\" % (x.shape, W.shape)\n",
    "    )\n",
    "    y = np.zeros((K,))\n",
    "    for k in xrange(0, K):\n",
    "        for j in xrange(0, J):\n",
    "            y[k] += x[j] * W[j,k]\n",
    "                \n",
    "    return y"
   ]
  },
  {
   "cell_type": "code",
   "execution_count": 27,
   "metadata": {
    "collapsed": false
   },
   "outputs": [
    {
     "name": "stdout",
     "output_type": "stream",
     "text": [
      "Well done!\n"
     ]
    }
   ],
   "source": [
    "irange = 0.1 #+-range from which we draw the random numbers\n",
    "\n",
    "x = random_generator.uniform(-irange, irange, (5,)) \n",
    "W = random_generator.uniform(-irange, irange, (5,3)) \n",
    "\n",
    "y_my = my_dot_vec_mat(x, W)\n",
    "y_np = np.dot(x, W)\n",
    "\n",
    "same = np.allclose(y_my, y_np)\n",
    "\n",
    "if same:\n",
    "    print 'Well done!'\n",
    "else:\n",
    "    print 'Matrices are different:'\n",
    "    print 'y_my is: ', y_my\n",
    "    print 'y_np is: ', y_np"
   ]
  },
  {
   "cell_type": "code",
   "execution_count": 30,
   "metadata": {
    "collapsed": true
   },
   "outputs": [],
   "source": [
    "def my_dot_mat_mat(x, W):\n",
    "    I = x.shape[0]\n",
    "    J = x.shape[1]\n",
    "    K = W.shape[1]\n",
    "    assert (J == W.shape[0]), (\n",
    "        \"Number of columns in of x expected to \"\n",
    "        \" to be the same as rows in W, got\"\n",
    "    )\n",
    "    #allocate the output container\n",
    "    y = np.zeros((I, K))\n",
    "    \n",
    "    #implement here matrix-matrix inner product here\n",
    "    for k in xrange(0, K):\n",
    "        for j in xrange(0, J):\n",
    "            for i in xrange(0, I):\n",
    "                y[i,k] += x[i,j] * W[j,k]\n",
    "                \n",
    "    return y"
   ]
  },
  {
   "cell_type": "markdown",
   "metadata": {},
   "source": [
    "Test whether you get comparable numbers to what numpy is producing:"
   ]
  },
  {
   "cell_type": "code",
   "execution_count": 31,
   "metadata": {
    "collapsed": false
   },
   "outputs": [
    {
     "name": "stdout",
     "output_type": "stream",
     "text": [
      "Well done!\n"
     ]
    }
   ],
   "source": [
    "irange = 0.1 #+-range from which we draw the random numbers\n",
    "\n",
    "x = random_generator.uniform(-irange, irange, (2,5)) \n",
    "W = random_generator.uniform(-irange, irange, (5,3)) \n",
    "\n",
    "y_my = my_dot_mat_mat(x, W)\n",
    "y_np = np.dot(x, W)\n",
    "\n",
    "same = np.allclose(y_my, y_np)\n",
    "\n",
    "if same:\n",
    "    print 'Well done!'\n",
    "else:\n",
    "    print 'Matrices are different:'\n",
    "    print 'y_my is: ', y_my\n",
    "    print 'y_np is: ', y_np"
   ]
  },
  {
   "cell_type": "markdown",
   "metadata": {},
   "source": [
    "Now we benchmark each approach (we do it in separate cells, as timeit currently can measure whole cell execuiton only)."
   ]
  },
  {
   "cell_type": "code",
   "execution_count": 32,
   "metadata": {
    "collapsed": true
   },
   "outputs": [],
   "source": [
    "#generate bit bigger matrices, to better evaluate timings\n",
    "x = random_generator.uniform(-irange, irange, (10, 1000))\n",
    "W = random_generator.uniform(-irange, irange, (1000, 100))"
   ]
  },
  {
   "cell_type": "code",
   "execution_count": 33,
   "metadata": {
    "collapsed": false
   },
   "outputs": [
    {
     "name": "stdout",
     "output_type": "stream",
     "text": [
      "my_dot timings:\n",
      "10 loops, best of 3: 707 ms per loop\n"
     ]
    }
   ],
   "source": [
    "print 'my_dot timings:'\n",
    "%timeit -n10 my_dot_mat_mat(x, W)"
   ]
  },
  {
   "cell_type": "code",
   "execution_count": 35,
   "metadata": {
    "collapsed": false
   },
   "outputs": [
    {
     "name": "stdout",
     "output_type": "stream",
     "text": [
      "numpy.dot timings:\n",
      "10 loops, best of 3: 328 µs per loop\n"
     ]
    }
   ],
   "source": [
    "print 'numpy.dot timings:'\n",
    "%timeit -n10 np.dot(x, W)"
   ]
  },
  {
   "cell_type": "markdown",
   "metadata": {},
   "source": [
    "**Optional section ends here**\n",
    "***"
   ]
  },
  {
   "cell_type": "markdown",
   "metadata": {},
   "source": [
    "# Iterative learning of linear models\n",
    "\n",
    "We will learn the model with stochastic gradient descent on N data-points using mean square error (MSE) loss function, which is defined as follows:\n",
    "\n",
    "(5) $\n",
    "E = \\frac{1}{2} \\sum_{n=1}^N ||\\mathbf{y}^n - \\mathbf{t}^n||^2 =  \\sum_{n=1}^N E^n \\\\\n",
    "  E^n = \\frac{1}{2} ||\\mathbf{y}^n - \\mathbf{t}^n||^2\n",
    "$\n",
    "\n",
    "(6) $ E^n = \\frac{1}{2} \\sum_{k=1}^K (y_k^n - t_k^n)^2 $\n",
    "  \n",
    "Hence, the gradient w.r.t (with respect to) the $r$ output y of the model is defined as, so called delta function, $\\delta_r$: \n",
    "\n",
    "(8) $\\frac{\\partial{E^n}}{\\partial{y_{r}}} = (y^n_r - t^n_r) =  \\delta^n_r \\quad ; \\quad\n",
    "    \\delta^n_r = y^n_r - t^n_r \\\\\n",
    "    \\frac{\\partial{E}}{\\partial{y_{r}}} = \\sum_{n=1}^N \\frac{\\partial{E^n}}{\\partial{y_{r}}} = \\sum_{n=1}^N \\delta^n_r\n",
    "$\n",
    "\n",
    "Similarly, using the above $\\delta^n_r$ one can express the gradient of the  weight $w_{sr}$ (from the s-th input to the r-th output) for linear model and MSE cost as follows:\n",
    "\n",
    "(9) $\n",
    "    \\frac{\\partial{E^n}}{\\partial{w_{sr}}} = (y^n_r - t^n_r)x_s^n =  \\delta^n_r x_s^n \\quad\\\\\n",
    "    \\frac{\\partial{E}}{\\partial{w_{sr}}} = \\sum_{n=1}^N \\frac{\\partial{E^n}}{\\partial{w_{rs}}} = \\sum_{n=1}^N \\delta^n_r x_s^n\n",
    "$\n",
    "\n",
    "and the gradient for bias parameter at the $r$-th output is:\n",
    "\n",
    "(10) $\n",
    "    \\frac{\\partial{E}}{\\partial{b_{r}}} = \\sum_{n=1}^N \\frac{\\partial{E^n}}{\\partial{b_{r}}} = \\sum_{n=1}^N \\delta^n_r\n",
    "$"
   ]
  },
  {
   "cell_type": "markdown",
   "metadata": {},
   "source": [
    "\n",
    "![Making Predictions](res/singleLayerNetPredict.png)\n",
    " \n",
    "  * Input vector $\\mathbf{x} = (x_1, x_2, \\ldots, x_D) $\n",
    "  * Output scalar $y_1$\n",
    "  * Weight matrix $\\mathbf{W}$: $w_{ik}$ is the weight from input $x_i$ to output $y_k$. Note, here this is really a vector since a single scalar output, y_1.\n",
    "  * Scalar bias $b$ for the only output in our model \n",
    "  * Scalar target $t$ for the only output in out model\n",
    "  \n",
    "First, ensure you can make use of the data provider (note, for training data has been normalised to zero mean and unit variance, hence different effective range than one can find in file):"
   ]
  },
  {
   "cell_type": "code",
   "execution_count": 119,
   "metadata": {
    "collapsed": false
   },
   "outputs": [
    {
     "name": "stdout",
     "output_type": "stream",
     "text": [
      "X shape: (10, 10)\n",
      "Batch 1 X:\n",
      "array([[-0.08, -0.06, -0.04, -0.13, -0.13, -0.13, -0.1 ,  0.08, -0.06,\n",
      "         0.04],\n",
      "       [-0.06, -0.04, -0.13, -0.13, -0.13, -0.1 ,  0.08, -0.06,  0.04,\n",
      "         0.12],\n",
      "       [-0.04, -0.13, -0.13, -0.13, -0.1 ,  0.08, -0.06,  0.04,  0.12, -0.1 ],\n",
      "       [-0.13, -0.13, -0.13, -0.1 ,  0.08, -0.06,  0.04,  0.12, -0.1 ,\n",
      "        -0.12],\n",
      "       [-0.13, -0.13, -0.1 ,  0.08, -0.06,  0.04,  0.12, -0.1 , -0.12,\n",
      "        -0.03],\n",
      "       [-0.13, -0.1 ,  0.08, -0.06,  0.04,  0.12, -0.1 , -0.12, -0.03,\n",
      "         0.12],\n",
      "       [-0.1 ,  0.08, -0.06,  0.04,  0.12, -0.1 , -0.12, -0.03,  0.12,  0.5 ],\n",
      "       [ 0.08, -0.06,  0.04,  0.12, -0.1 , -0.12, -0.03,  0.12,  0.5 ,\n",
      "        -0.08],\n",
      "       [-0.06,  0.04,  0.12, -0.1 , -0.12, -0.03,  0.12,  0.5 , -0.08,\n",
      "         0.22],\n",
      "       [ 0.04,  0.12, -0.1 , -0.12, -0.03,  0.12,  0.5 , -0.08,  0.22,\n",
      "        -0.03]])\n",
      "T shape: (10, 1)\n",
      "Batch 1 T:\n",
      "array([[ 0.12],\n",
      "       [-0.1 ],\n",
      "       [-0.12],\n",
      "       [-0.03],\n",
      "       [ 0.12],\n",
      "       [ 0.5 ],\n",
      "       [-0.08],\n",
      "       [ 0.22],\n",
      "       [-0.03],\n",
      "       [-0.11]])\n"
     ]
    }
   ],
   "source": [
    "from mlp.dataset import MetOfficeDataProvider\n",
    "\n",
    "modp = MetOfficeDataProvider(10, batch_size=10, max_num_batches=2, randomize=False)\n",
    "\n",
    "%precision 2\n",
    "for x, t in modp:\n",
    "    print 'X shape: %r\\nBatch 1 X:\\n%r' % (x.shape, x)\n",
    "    print 'T shape: %r\\nBatch 1 T:\\n%r' % (t.shape, t)\n",
    "    break"
   ]
  },
  {
   "cell_type": "markdown",
   "metadata": {},
   "source": [
    "## Exercise 4\n",
    "\n",
    "The below code implements a very simple variant of stochastic gradient descent for the rainfall prediction example. Your task is to implement 5 functions in the next cell and then run two next cells that 1) build sgd functions and 2) run the actual training."
   ]
  },
  {
   "cell_type": "code",
   "execution_count": 126,
   "metadata": {
    "collapsed": true
   },
   "outputs": [],
   "source": [
    "\n",
    "#When implementing those, take into account the mini-batch case, for which one is\n",
    "#expected to sum the errors for each example\n",
    "\n",
    "def fprop(X, W, b):\n",
    "    #code implementing eq. (3)\n",
    "    # [JO] Actally it's (4)\n",
    "    Y = np.dot(X, W) + b\n",
    "    return Y\n",
    "\n",
    "def cost(Y, T):\n",
    "    # y and t are size N x K \n",
    "    #Sum Square Error cost, equation (5)\n",
    "    assert(Y.shape == T.shape), \"shape of Y and T must match [Y is %s, T is %s]\" \\\n",
    "        % (Y.shape, T.shape)\n",
    "    return np.trace((Y-T).dot((Y-T).T))\n",
    "    # this method only works for N x 1\n",
    "#     N = len(y)\n",
    "#     delta = y - t\n",
    "#     SSE = 0.5 * np.dot(delta, delta)  # valid as delta shape (N, )\n",
    "#     MSE = SSE/N\n",
    "#     return MSE\n",
    "\n",
    "def cost_grad(Y, T):\n",
    "    #Gradient of the cost w.r.t y equation (8)\n",
    "    delta = Y - T\n",
    "    return delta\n",
    "\n",
    "def cost_wrt_W(cost_grad, X):\n",
    "    # Gradient of the cost w.r.t W, equation (9)\n",
    "    # X is N-by-D, cost_grad is N-by-K\n",
    "    # return is D-by-K\n",
    "    return np.dot(X.T, cost_grad)\n",
    "    \n",
    "def cost_wrt_b(cost_grad):\n",
    "    #Gradient of the cost w.r.t to b, equation (10)\n",
    "    return np.sum(cost_grad, axis = 0)"
   ]
  },
  {
   "cell_type": "code",
   "execution_count": 127,
   "metadata": {
    "collapsed": true
   },
   "outputs": [],
   "source": [
    "def sgd_epoch(data_provider, W, b, learning_rate):\n",
    "    # Convention\n",
    "    mse_stats = []\n",
    "    #get the minibatch of data\n",
    "    for X, T in data_provider:\n",
    "        #1. get the estimate of y\n",
    "        Y = fprop(X, W, b)\n",
    "\n",
    "        #2. compute the loss function\n",
    "        tmp = cost(Y, T)\n",
    "        mse_stats.append(tmp)\n",
    "        \n",
    "        #3. compute the grad of the cost w.r.t the output layer activation y\n",
    "        #i.e. how the cost changes when output y changes\n",
    "        cost_grad_deltas = cost_grad(Y, T)\n",
    "\n",
    "        #4. compute the gradients w.r.t model's parameters\n",
    "        grad_W = cost_wrt_W(cost_grad_deltas, X)\n",
    "        grad_b = cost_wrt_b(cost_grad_deltas)\n",
    "\n",
    "        #4. Update the model, we update with the mean gradient\n",
    "        # over the minibatch, rather than sum of particular gradients\n",
    "        # in a minibatch, to do so we scale the learning rate by batch_size\n",
    "        batch_size = X.shape[0]\n",
    "        effect_learn_rate = learning_rate / batch_size\n",
    "\n",
    "        W = W - effect_learn_rate * grad_W\n",
    "        b = b - effect_learn_rate * grad_b\n",
    "    \n",
    "    return W, b, np.mean(mse_stats)\n",
    "\n",
    "def sgd(data_provider, W, b, learning_rate=0.1, max_epochs=10):\n",
    "    \n",
    "    for epoch in xrange(0, max_epochs):\n",
    "        #reset the data provider\n",
    "        data_provider.reset()\n",
    "        \n",
    "        #train for one epoch\n",
    "        W, b, mean_cost = \\\n",
    "            sgd_epoch(data_provider, W, b, learning_rate)\n",
    "                \n",
    "        print \"MSE training cost after %d-th epoch is %f\" % (epoch + 1, mean_cost)\n",
    "    \n",
    "    return W, b\n",
    "        \n",
    "        "
   ]
  },
  {
   "cell_type": "code",
   "execution_count": 129,
   "metadata": {
    "collapsed": false
   },
   "outputs": [
    {
     "name": "stdout",
     "output_type": "stream",
     "text": [
      "MSE training cost after 1-th epoch is 0.314661\n",
      "MSE training cost after 2-th epoch is 0.297960\n",
      "MSE training cost after 3-th epoch is 0.296394\n",
      "MSE training cost after 4-th epoch is 0.296101\n",
      "MSE training cost after 5-th epoch is 0.296029\n",
      "MSE training cost after 6-th epoch is 0.296009\n",
      "MSE training cost after 7-th epoch is 0.296002\n",
      "MSE training cost after 8-th epoch is 0.295999\n",
      "MSE training cost after 9-th epoch is 0.295998\n",
      "MSE training cost after 10-th epoch is 0.295998\n",
      "MSE training cost after 11-th epoch is 0.295998\n",
      "MSE training cost after 12-th epoch is 0.295998\n",
      "MSE training cost after 13-th epoch is 0.295997\n",
      "MSE training cost after 14-th epoch is 0.295997\n",
      "MSE training cost after 15-th epoch is 0.295997\n",
      "MSE training cost after 16-th epoch is 0.295997\n",
      "MSE training cost after 17-th epoch is 0.295997\n",
      "MSE training cost after 18-th epoch is 0.295997\n",
      "MSE training cost after 19-th epoch is 0.295997\n",
      "MSE training cost after 20-th epoch is 0.295997\n",
      "MSE training cost after 21-th epoch is 0.295997\n",
      "MSE training cost after 22-th epoch is 0.295997\n",
      "MSE training cost after 23-th epoch is 0.295997\n",
      "MSE training cost after 24-th epoch is 0.295997\n",
      "MSE training cost after 25-th epoch is 0.295997\n",
      "MSE training cost after 26-th epoch is 0.295997\n",
      "MSE training cost after 27-th epoch is 0.295997\n",
      "MSE training cost after 28-th epoch is 0.295997\n",
      "MSE training cost after 29-th epoch is 0.295997\n",
      "MSE training cost after 30-th epoch is 0.295997\n",
      "MSE training cost after 31-th epoch is 0.295997\n",
      "MSE training cost after 32-th epoch is 0.295997\n",
      "MSE training cost after 33-th epoch is 0.295997\n",
      "MSE training cost after 34-th epoch is 0.295997\n",
      "MSE training cost after 35-th epoch is 0.295997\n",
      "MSE training cost after 36-th epoch is 0.295997\n",
      "MSE training cost after 37-th epoch is 0.295997\n",
      "MSE training cost after 38-th epoch is 0.295997\n",
      "MSE training cost after 39-th epoch is 0.295997\n",
      "MSE training cost after 40-th epoch is 0.295997\n"
     ]
    },
    {
     "data": {
      "text/plain": [
       "(array([[  1.66e-02],\n",
       "        [ -4.17e-03],\n",
       "        [  3.69e-04],\n",
       "        [  7.89e-03],\n",
       "        [ -1.28e-04],\n",
       "        [  1.13e-02],\n",
       "        [  3.73e-02],\n",
       "        [  2.85e-02],\n",
       "        [  3.80e-02],\n",
       "        [  5.85e-02],\n",
       "        [  7.10e-02],\n",
       "        [  2.56e-01]]), array([ 0.01]))"
      ]
     },
     "execution_count": 129,
     "metadata": {},
     "output_type": "execute_result"
    }
   ],
   "source": [
    "\n",
    "#some hyper-parameters\n",
    "window_size = 12\n",
    "irange = 0.1\n",
    "learning_rate = 0.01\n",
    "max_epochs=40\n",
    "\n",
    "# note, while developing you can set max_num_batches to some positive number to limit\n",
    "# the number of training data-points (you will get feedback faster)\n",
    "mdp = MetOfficeDataProvider(window_size, batch_size=10, max_num_batches=-100, randomize=False)\n",
    "\n",
    "#initialise the parameters\n",
    "W = random_generator.uniform(-irange, irange, (window_size, 1))\n",
    "b = random_generator.uniform(-irange, irange, (1, ))\n",
    "\n",
    "#train the model\n",
    "sgd(mdp, W, b, learning_rate=learning_rate, max_epochs=max_epochs)\n"
   ]
  },
  {
   "cell_type": "markdown",
   "metadata": {
    "collapsed": true
   },
   "source": [
    "## Exercise 5\n",
    "\n",
    "Modify the above prediction (regression) problem so the model makes a binary classification whether the the weather is going to be one of those \\{rainy, not-rainy} (look at slide 12 of the 2nd lecture)\n",
    "\n",
    "Tip: You need to introduce the following changes:\n",
    "1. Modify `MetOfficeDataProvider` (for example, inherit from MetOfficeDataProvider to create a new class MetOfficeDataProviderBin) and modify `next()` function so it returns as `targets` either 0 (not-rainy - if the the amount of rain [before mean/variance normalisation] is equal to 0) or 1 (rainy -- otherwise).\n",
    "2. Modify the functions from previous exercise so the fprop implements `sigmoid` on top of affine transform.\n",
    "3. Modify cost function to binary cross-entropy\n",
    "4. Make sure you compute the gradients correctly (as you have changed both the output and the cost)\n"
   ]
  },
  {
   "cell_type": "code",
   "execution_count": null,
   "metadata": {
    "collapsed": true
   },
   "outputs": [],
   "source": []
  }
 ],
 "metadata": {
  "kernelspec": {
   "display_name": "Python 2",
   "language": "python",
   "name": "python2"
  },
  "language_info": {
   "codemirror_mode": {
    "name": "ipython",
    "version": 2
   },
   "file_extension": ".py",
   "mimetype": "text/x-python",
   "name": "python",
   "nbconvert_exporter": "python",
   "pygments_lexer": "ipython2",
   "version": "2.7.10"
  }
 },
 "nbformat": 4,
 "nbformat_minor": 0
}
